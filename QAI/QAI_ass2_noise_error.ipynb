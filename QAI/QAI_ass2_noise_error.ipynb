{
  "nbformat": 4,
  "nbformat_minor": 0,
  "metadata": {
    "colab": {
      "provenance": []
    },
    "kernelspec": {
      "name": "python3",
      "display_name": "Python 3"
    },
    "language_info": {
      "name": "python"
    }
  },
  "cells": [
    {
      "cell_type": "code",
      "execution_count": 14,
      "metadata": {
        "id": "qiTx4y-sBMfQ"
      },
      "outputs": [],
      "source": [
        "#Tackle Noise with Error Correction"
      ]
    },
    {
      "cell_type": "code",
      "source": [
        "!pip install qiskit\n",
        "!pip install qiskit-aer"
      ],
      "metadata": {
        "colab": {
          "base_uri": "https://localhost:8080/"
        },
        "id": "UD3TzRkvECwH",
        "outputId": "b6108ed3-fa44-451c-f105-3095c3265d75"
      },
      "execution_count": 15,
      "outputs": [
        {
          "output_type": "stream",
          "name": "stdout",
          "text": [
            "Requirement already satisfied: qiskit in /usr/local/lib/python3.10/dist-packages (1.2.4)\n",
            "Requirement already satisfied: rustworkx>=0.15.0 in /usr/local/lib/python3.10/dist-packages (from qiskit) (0.15.1)\n",
            "Requirement already satisfied: numpy<3,>=1.17 in /usr/local/lib/python3.10/dist-packages (from qiskit) (1.26.4)\n",
            "Requirement already satisfied: scipy>=1.5 in /usr/local/lib/python3.10/dist-packages (from qiskit) (1.13.1)\n",
            "Requirement already satisfied: sympy>=1.3 in /usr/local/lib/python3.10/dist-packages (from qiskit) (1.13.1)\n",
            "Requirement already satisfied: dill>=0.3 in /usr/local/lib/python3.10/dist-packages (from qiskit) (0.3.9)\n",
            "Requirement already satisfied: python-dateutil>=2.8.0 in /usr/local/lib/python3.10/dist-packages (from qiskit) (2.8.2)\n",
            "Requirement already satisfied: stevedore>=3.0.0 in /usr/local/lib/python3.10/dist-packages (from qiskit) (5.3.0)\n",
            "Requirement already satisfied: typing-extensions in /usr/local/lib/python3.10/dist-packages (from qiskit) (4.12.2)\n",
            "Requirement already satisfied: symengine<0.14,>=0.11 in /usr/local/lib/python3.10/dist-packages (from qiskit) (0.13.0)\n",
            "Requirement already satisfied: six>=1.5 in /usr/local/lib/python3.10/dist-packages (from python-dateutil>=2.8.0->qiskit) (1.16.0)\n",
            "Requirement already satisfied: pbr>=2.0.0 in /usr/local/lib/python3.10/dist-packages (from stevedore>=3.0.0->qiskit) (6.1.0)\n",
            "Requirement already satisfied: mpmath<1.4,>=1.1.0 in /usr/local/lib/python3.10/dist-packages (from sympy>=1.3->qiskit) (1.3.0)\n",
            "Requirement already satisfied: qiskit-aer in /usr/local/lib/python3.10/dist-packages (0.15.1)\n",
            "Requirement already satisfied: qiskit>=1.1.0 in /usr/local/lib/python3.10/dist-packages (from qiskit-aer) (1.2.4)\n",
            "Requirement already satisfied: numpy>=1.16.3 in /usr/local/lib/python3.10/dist-packages (from qiskit-aer) (1.26.4)\n",
            "Requirement already satisfied: scipy>=1.0 in /usr/local/lib/python3.10/dist-packages (from qiskit-aer) (1.13.1)\n",
            "Requirement already satisfied: psutil>=5 in /usr/local/lib/python3.10/dist-packages (from qiskit-aer) (5.9.5)\n",
            "Requirement already satisfied: rustworkx>=0.15.0 in /usr/local/lib/python3.10/dist-packages (from qiskit>=1.1.0->qiskit-aer) (0.15.1)\n",
            "Requirement already satisfied: sympy>=1.3 in /usr/local/lib/python3.10/dist-packages (from qiskit>=1.1.0->qiskit-aer) (1.13.1)\n",
            "Requirement already satisfied: dill>=0.3 in /usr/local/lib/python3.10/dist-packages (from qiskit>=1.1.0->qiskit-aer) (0.3.9)\n",
            "Requirement already satisfied: python-dateutil>=2.8.0 in /usr/local/lib/python3.10/dist-packages (from qiskit>=1.1.0->qiskit-aer) (2.8.2)\n",
            "Requirement already satisfied: stevedore>=3.0.0 in /usr/local/lib/python3.10/dist-packages (from qiskit>=1.1.0->qiskit-aer) (5.3.0)\n",
            "Requirement already satisfied: typing-extensions in /usr/local/lib/python3.10/dist-packages (from qiskit>=1.1.0->qiskit-aer) (4.12.2)\n",
            "Requirement already satisfied: symengine<0.14,>=0.11 in /usr/local/lib/python3.10/dist-packages (from qiskit>=1.1.0->qiskit-aer) (0.13.0)\n",
            "Requirement already satisfied: six>=1.5 in /usr/local/lib/python3.10/dist-packages (from python-dateutil>=2.8.0->qiskit>=1.1.0->qiskit-aer) (1.16.0)\n",
            "Requirement already satisfied: pbr>=2.0.0 in /usr/local/lib/python3.10/dist-packages (from stevedore>=3.0.0->qiskit>=1.1.0->qiskit-aer) (6.1.0)\n",
            "Requirement already satisfied: mpmath<1.4,>=1.1.0 in /usr/local/lib/python3.10/dist-packages (from sympy>=1.3->qiskit>=1.1.0->qiskit-aer) (1.3.0)\n"
          ]
        }
      ]
    },
    {
      "cell_type": "code",
      "source": [],
      "metadata": {
        "id": "MJA1_90kECzx"
      },
      "execution_count": 15,
      "outputs": []
    },
    {
      "cell_type": "code",
      "source": [
        "from qiskit import QuantumCircuit\n",
        "from qiskit_aer import AerSimulator\n",
        "from qiskit.visualization import plot_histogram"
      ],
      "metadata": {
        "id": "SU3KYk5WBjRd"
      },
      "execution_count": 16,
      "outputs": []
    },
    {
      "cell_type": "code",
      "source": [
        "from qiskit_aer.noise import NoiseModel ,depolarizing_error\n",
        "\n",
        "\n",
        "\n"
      ],
      "metadata": {
        "id": "EuA7p1_xBjUG"
      },
      "execution_count": 17,
      "outputs": []
    },
    {
      "cell_type": "code",
      "source": [
        "qc=QuantumCircuit(3,3)\n",
        "\n",
        "qc.h(0)\n",
        "qc.cx(0,1)\n",
        "qc.cx(0,2)\n",
        "qc.measure([0,1,2],[0,1,2])\n",
        "qc.draw()"
      ],
      "metadata": {
        "colab": {
          "base_uri": "https://localhost:8080/",
          "height": 156
        },
        "id": "R_dt8h9MBjWg",
        "outputId": "0383af50-7a6f-46f3-ba54-4b893bf8cdb3"
      },
      "execution_count": 18,
      "outputs": [
        {
          "output_type": "execute_result",
          "data": {
            "text/plain": [
              "     ┌───┐             ┌─┐   \n",
              "q_0: ┤ H ├──■────■─────┤M├───\n",
              "     └───┘┌─┴─┐  │  ┌─┐└╥┘   \n",
              "q_1: ─────┤ X ├──┼──┤M├─╫────\n",
              "          └───┘┌─┴─┐└╥┘ ║ ┌─┐\n",
              "q_2: ──────────┤ X ├─╫──╫─┤M├\n",
              "               └───┘ ║  ║ └╥┘\n",
              "c: 3/════════════════╩══╩══╩═\n",
              "                     1  0  2 "
            ],
            "text/html": [
              "<pre style=\"word-wrap: normal;white-space: pre;background: #fff0;line-height: 1.1;font-family: &quot;Courier New&quot;,Courier,monospace\">     ┌───┐             ┌─┐   \n",
              "q_0: ┤ H ├──■────■─────┤M├───\n",
              "     └───┘┌─┴─┐  │  ┌─┐└╥┘   \n",
              "q_1: ─────┤ X ├──┼──┤M├─╫────\n",
              "          └───┘┌─┴─┐└╥┘ ║ ┌─┐\n",
              "q_2: ──────────┤ X ├─╫──╫─┤M├\n",
              "               └───┘ ║  ║ └╥┘\n",
              "c: 3/════════════════╩══╩══╩═\n",
              "                     1  0  2 </pre>"
            ]
          },
          "metadata": {},
          "execution_count": 18
        }
      ]
    },
    {
      "cell_type": "code",
      "source": [
        "noise_model=NoiseModel()"
      ],
      "metadata": {
        "id": "YYKiMl-eFEQ4"
      },
      "execution_count": 19,
      "outputs": []
    },
    {
      "cell_type": "code",
      "source": [
        "# Add depolarizing noise for single-qubit gates and two-qubit gates\n",
        "depol_1q = depolarizing_error(0.01, 1)\n",
        "depol_2q = depolarizing_error(0.02, 2)\n",
        "noise_model.add_all_qubit_quantum_error(depol_1q, ['u3', 'x', 'h'])\n",
        "noise_model.add_all_qubit_quantum_error(depol_2q, ['cx'])"
      ],
      "metadata": {
        "id": "H525HPCRFETp"
      },
      "execution_count": 20,
      "outputs": []
    },
    {
      "cell_type": "code",
      "source": [
        "# Use AerSimulator and noise model for simulation\n",
        "backend = AerSimulator()"
      ],
      "metadata": {
        "id": "OTp-KTDuFEW1"
      },
      "execution_count": 21,
      "outputs": []
    },
    {
      "cell_type": "code",
      "source": [
        "# Execute the quantum circuit with noise model\n",
        "result_with_noise = backend.run(qc,noise_model=noise_model, shots=1024).result()"
      ],
      "metadata": {
        "id": "zMRTAxEAFEaQ"
      },
      "execution_count": 22,
      "outputs": []
    },
    {
      "cell_type": "code",
      "source": [
        "# Get the raw counts with noise\n",
        "noisy_counts = result_with_noise.get_counts(qc)"
      ],
      "metadata": {
        "id": "oCPE0GisBjY-"
      },
      "execution_count": 23,
      "outputs": []
    },
    {
      "cell_type": "code",
      "source": [
        "# Simple mitigation technique: scale counts based on expected noise\n",
        "mitigated_counts = {key: noisy_counts[key] * (1 - 0.02) for key in noisy_counts}"
      ],
      "metadata": {
        "id": "UcFmJpx_BjbE"
      },
      "execution_count": 24,
      "outputs": []
    },
    {
      "cell_type": "code",
      "source": [
        "# Plot the mitigated results\n",
        "plot_histogram(mitigated_counts)"
      ],
      "metadata": {
        "colab": {
          "base_uri": "https://localhost:8080/",
          "height": 446
        },
        "id": "XK51xj1UBjdR",
        "outputId": "af527fbe-4c18-4774-ba69-32924f926df9"
      },
      "execution_count": 25,
      "outputs": [
        {
          "output_type": "execute_result",
          "data": {
            "text/plain": [
              "<Figure size 640x480 with 1 Axes>"
            ],
            "image/png": "[encoded data removed]"
          },
          "metadata": {},
          "execution_count": 25
        }
      ]
    },
    {
      "cell_type": "code",
      "source": [
        "print(\"Original counts:\")\n",
        "print(noisy_counts)"
      ],
      "metadata": {
        "colab": {
          "base_uri": "https://localhost:8080/"
        },
        "id": "Mqe-cXklBjfg",
        "outputId": "ebdd332f-b347-4868-d225-f52264b1ff85"
      },
      "execution_count": 26,
      "outputs": [
        {
          "output_type": "stream",
          "name": "stdout",
          "text": [
            "Original counts:\n",
            "{'001': 2, '101': 8, '110': 2, '100': 2, '011': 2, '111': 478, '010': 8, '000': 522}\n"
          ]
        }
      ]
    },
    {
      "cell_type": "code",
      "source": [
        "print(\"Mitigated counts:\")\n",
        "print(mitigated_counts)"
      ],
      "metadata": {
        "colab": {
          "base_uri": "https://localhost:8080/"
        },
        "id": "8AGkOXwjBjjF",
        "outputId": "08f884d7-13c2-442b-bfe7-d474f18f7300"
      },
      "execution_count": 27,
      "outputs": [
        {
          "output_type": "stream",
          "name": "stdout",
          "text": [
            "Mitigated counts:\n",
            "{'001': 1.96, '101': 7.84, '110': 1.96, '100': 1.96, '011': 1.96, '111': 468.44, '010': 7.84, '000': 511.56}\n"
          ]
        }
      ]
    },
    {
      "cell_type": "code",
      "source": [
        "plot_histogram([noisy_counts, mitigated_counts], legend=['Original', 'Mitigated'])"
      ],
      "metadata": {
        "colab": {
          "base_uri": "https://localhost:8080/",
          "height": 446
        },
        "id": "KSTHtcQiGwPc",
        "outputId": "f9a8e7e6-ab76-4686-d613-25c08d7c3452"
      },
      "execution_count": 28,
      "outputs": [
        {
          "output_type": "execute_result",
          "data": {
            "text/plain": [
              "<Figure size 640x480 with 1 Axes>"
            ],
            "image/png": "[encoded data removed]"
          },
          "metadata": {},
          "execution_count": 28
        }
      ]
    },
    {
      "cell_type": "code",
      "source": [],
      "metadata": {
        "id": "t4wuF0FPGwSM"
      },
      "execution_count": 28,
      "outputs": []
    },
    {
      "cell_type": "code",
      "source": [],
      "metadata": {
        "id": "i8Zsw8h0GwVf"
      },
      "execution_count": 28,
      "outputs": []
    }
  ]
}