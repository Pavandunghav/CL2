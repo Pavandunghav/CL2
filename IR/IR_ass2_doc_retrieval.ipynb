{
  "nbformat": 4,
  "nbformat_minor": 0,
  "metadata": {
    "colab": {
      "provenance": []
    },
    "kernelspec": {
      "name": "python3",
      "display_name": "Python 3"
    },
    "language_info": {
      "name": "python"
    }
  },
  "cells": [
    {
      "cell_type": "code",
      "execution_count": 1,
      "metadata": {
        "id": "j8UdVUJjIHoB"
      },
      "outputs": [],
      "source": [
        "## Implement a program for retrieval of documents using inverted files."
      ]
    },
    {
      "cell_type": "code",
      "source": [
        " documents = {\n",
        "        1: \"The quick brown fox jumps over the lazy dog\",\n",
        "        2: \"The dog is lazy but the fox is quick\",\n",
        "        3: \"A quick brown fox jumps over a lazy dog\",\n",
        "        4: \"Dogs are great companions\",\n",
        "        5: \"Foxes are clever and quick\"\n",
        "    }\n"
      ],
      "metadata": {
        "id": "E-r-Q76wIMvK"
      },
      "execution_count": 2,
      "outputs": []
    },
    {
      "cell_type": "code",
      "source": [
        " query_term = \"quick\"\n",
        ""
      ],
      "metadata": {
        "id": "pb3PzbbhIMx-"
      },
      "execution_count": 3,
      "outputs": []
    },
    {
      "cell_type": "code",
      "source": [
        " from collections import defaultdict\n"
      ],
      "metadata": {
        "id": "VFxj32BsIM01"
      },
      "execution_count": 4,
      "outputs": []
    },
    {
      "cell_type": "code",
      "source": [
        "# Create an inverted index\n",
        "index = defaultdict(set)\n",
        "\n",
        "# Build the inverted index\n",
        "for doc_id, text in documents.items():\n",
        "    tokens = text.lower().split()\n",
        "    for token in tokens:\n",
        "        index[token].add(doc_id)\n"
      ],
      "metadata": {
        "id": "x2NfB6P1IM3Z"
      },
      "execution_count": 5,
      "outputs": []
    },
    {
      "cell_type": "code",
      "source": [
        "\n",
        "# Query the index\n",
        "result=index.get(query_term.lower(), set())\n",
        "result"
      ],
      "metadata": {
        "id": "TFSt8wuHIM6Z",
        "colab": {
          "base_uri": "https://localhost:8080/"
        },
        "outputId": "a58f60d1-ca0b-4a93-cd0b-43a3a6ecc83a"
      },
      "execution_count": 8,
      "outputs": [
        {
          "output_type": "execute_result",
          "data": {
            "text/plain": [
              "{1, 2, 3, 5}"
            ]
          },
          "metadata": {},
          "execution_count": 8
        }
      ]
    },
    {
      "cell_type": "code",
      "source": [
        " print(f\"Documents containing '{query_term}': {sorted(result)}\")"
      ],
      "metadata": {
        "colab": {
          "base_uri": "https://localhost:8080/"
        },
        "id": "AALNtrLum_rA",
        "outputId": "ba29607b-c9cd-4f16-a5d6-9a10991870ac"
      },
      "execution_count": 9,
      "outputs": [
        {
          "output_type": "stream",
          "name": "stdout",
          "text": [
            "Documents containing 'quick': [1, 2, 3, 5]\n"
          ]
        }
      ]
    },
    {
      "cell_type": "code",
      "source": [],
      "metadata": {
        "id": "k52AXbDhm_uU"
      },
      "execution_count": null,
      "outputs": []
    },
    {
      "cell_type": "code",
      "source": [],
      "metadata": {
        "id": "pkUBlGm4m_xx"
      },
      "execution_count": null,
      "outputs": []
    }
  ]
}